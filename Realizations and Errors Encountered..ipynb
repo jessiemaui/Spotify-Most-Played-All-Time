{
 "cells": [
  {
   "cell_type": "markdown",
   "id": "0855d2e5-328e-40c4-9624-a7f8cee7ab27",
   "metadata": {},
   "source": [
    "# <font color='C62E2E'>Error in Overview of Dataset</font>"
   ]
  },
  {
   "cell_type": "code",
   "execution_count": 44,
   "id": "1113b7a2-a025-49ab-9e8c-7b0f03b0fb76",
   "metadata": {},
   "outputs": [
    {
     "ename": "UnicodeDecodeError",
     "evalue": "'utf-8' codec can't decode bytes in position 7250-7251: invalid continuation byte",
     "output_type": "error",
     "traceback": [
      "\u001b[1;31m---------------------------------------------------------------------------\u001b[0m",
      "\u001b[1;31mUnicodeDecodeError\u001b[0m                        Traceback (most recent call last)",
      "Cell \u001b[1;32mIn[44], line 2\u001b[0m\n\u001b[0;32m      1\u001b[0m \u001b[38;5;28;01mimport\u001b[39;00m \u001b[38;5;21;01mpandas\u001b[39;00m \u001b[38;5;28;01mas\u001b[39;00m \u001b[38;5;21;01mpd\u001b[39;00m \u001b[38;5;66;03m# import pandas library with the alias of pd\u001b[39;00m\n\u001b[1;32m----> 2\u001b[0m spotify \u001b[38;5;241m=\u001b[39m pd\u001b[38;5;241m.\u001b[39mread_csv(\u001b[38;5;124m'\u001b[39m\u001b[38;5;124mspotify-2023.csv\u001b[39m\u001b[38;5;124m'\u001b[39m)\n\u001b[0;32m      3\u001b[0m spotify[\u001b[38;5;124m'\u001b[39m\u001b[38;5;124mtrack_name\u001b[39m\u001b[38;5;124m'\u001b[39m]\n",
      "File \u001b[1;32mD:\\Anaconda\\Lib\\site-packages\\pandas\\io\\parsers\\readers.py:1026\u001b[0m, in \u001b[0;36mread_csv\u001b[1;34m(filepath_or_buffer, sep, delimiter, header, names, index_col, usecols, dtype, engine, converters, true_values, false_values, skipinitialspace, skiprows, skipfooter, nrows, na_values, keep_default_na, na_filter, verbose, skip_blank_lines, parse_dates, infer_datetime_format, keep_date_col, date_parser, date_format, dayfirst, cache_dates, iterator, chunksize, compression, thousands, decimal, lineterminator, quotechar, quoting, doublequote, escapechar, comment, encoding, encoding_errors, dialect, on_bad_lines, delim_whitespace, low_memory, memory_map, float_precision, storage_options, dtype_backend)\u001b[0m\n\u001b[0;32m   1013\u001b[0m kwds_defaults \u001b[38;5;241m=\u001b[39m _refine_defaults_read(\n\u001b[0;32m   1014\u001b[0m     dialect,\n\u001b[0;32m   1015\u001b[0m     delimiter,\n\u001b[1;32m   (...)\u001b[0m\n\u001b[0;32m   1022\u001b[0m     dtype_backend\u001b[38;5;241m=\u001b[39mdtype_backend,\n\u001b[0;32m   1023\u001b[0m )\n\u001b[0;32m   1024\u001b[0m kwds\u001b[38;5;241m.\u001b[39mupdate(kwds_defaults)\n\u001b[1;32m-> 1026\u001b[0m \u001b[38;5;28;01mreturn\u001b[39;00m _read(filepath_or_buffer, kwds)\n",
      "File \u001b[1;32mD:\\Anaconda\\Lib\\site-packages\\pandas\\io\\parsers\\readers.py:620\u001b[0m, in \u001b[0;36m_read\u001b[1;34m(filepath_or_buffer, kwds)\u001b[0m\n\u001b[0;32m    617\u001b[0m _validate_names(kwds\u001b[38;5;241m.\u001b[39mget(\u001b[38;5;124m\"\u001b[39m\u001b[38;5;124mnames\u001b[39m\u001b[38;5;124m\"\u001b[39m, \u001b[38;5;28;01mNone\u001b[39;00m))\n\u001b[0;32m    619\u001b[0m \u001b[38;5;66;03m# Create the parser.\u001b[39;00m\n\u001b[1;32m--> 620\u001b[0m parser \u001b[38;5;241m=\u001b[39m TextFileReader(filepath_or_buffer, \u001b[38;5;241m*\u001b[39m\u001b[38;5;241m*\u001b[39mkwds)\n\u001b[0;32m    622\u001b[0m \u001b[38;5;28;01mif\u001b[39;00m chunksize \u001b[38;5;129;01mor\u001b[39;00m iterator:\n\u001b[0;32m    623\u001b[0m     \u001b[38;5;28;01mreturn\u001b[39;00m parser\n",
      "File \u001b[1;32mD:\\Anaconda\\Lib\\site-packages\\pandas\\io\\parsers\\readers.py:1620\u001b[0m, in \u001b[0;36mTextFileReader.__init__\u001b[1;34m(self, f, engine, **kwds)\u001b[0m\n\u001b[0;32m   1617\u001b[0m     \u001b[38;5;28mself\u001b[39m\u001b[38;5;241m.\u001b[39moptions[\u001b[38;5;124m\"\u001b[39m\u001b[38;5;124mhas_index_names\u001b[39m\u001b[38;5;124m\"\u001b[39m] \u001b[38;5;241m=\u001b[39m kwds[\u001b[38;5;124m\"\u001b[39m\u001b[38;5;124mhas_index_names\u001b[39m\u001b[38;5;124m\"\u001b[39m]\n\u001b[0;32m   1619\u001b[0m \u001b[38;5;28mself\u001b[39m\u001b[38;5;241m.\u001b[39mhandles: IOHandles \u001b[38;5;241m|\u001b[39m \u001b[38;5;28;01mNone\u001b[39;00m \u001b[38;5;241m=\u001b[39m \u001b[38;5;28;01mNone\u001b[39;00m\n\u001b[1;32m-> 1620\u001b[0m \u001b[38;5;28mself\u001b[39m\u001b[38;5;241m.\u001b[39m_engine \u001b[38;5;241m=\u001b[39m \u001b[38;5;28mself\u001b[39m\u001b[38;5;241m.\u001b[39m_make_engine(f, \u001b[38;5;28mself\u001b[39m\u001b[38;5;241m.\u001b[39mengine)\n",
      "File \u001b[1;32mD:\\Anaconda\\Lib\\site-packages\\pandas\\io\\parsers\\readers.py:1898\u001b[0m, in \u001b[0;36mTextFileReader._make_engine\u001b[1;34m(self, f, engine)\u001b[0m\n\u001b[0;32m   1895\u001b[0m     \u001b[38;5;28;01mraise\u001b[39;00m \u001b[38;5;167;01mValueError\u001b[39;00m(msg)\n\u001b[0;32m   1897\u001b[0m \u001b[38;5;28;01mtry\u001b[39;00m:\n\u001b[1;32m-> 1898\u001b[0m     \u001b[38;5;28;01mreturn\u001b[39;00m mapping[engine](f, \u001b[38;5;241m*\u001b[39m\u001b[38;5;241m*\u001b[39m\u001b[38;5;28mself\u001b[39m\u001b[38;5;241m.\u001b[39moptions)\n\u001b[0;32m   1899\u001b[0m \u001b[38;5;28;01mexcept\u001b[39;00m \u001b[38;5;167;01mException\u001b[39;00m:\n\u001b[0;32m   1900\u001b[0m     \u001b[38;5;28;01mif\u001b[39;00m \u001b[38;5;28mself\u001b[39m\u001b[38;5;241m.\u001b[39mhandles \u001b[38;5;129;01mis\u001b[39;00m \u001b[38;5;129;01mnot\u001b[39;00m \u001b[38;5;28;01mNone\u001b[39;00m:\n",
      "File \u001b[1;32mD:\\Anaconda\\Lib\\site-packages\\pandas\\io\\parsers\\c_parser_wrapper.py:93\u001b[0m, in \u001b[0;36mCParserWrapper.__init__\u001b[1;34m(self, src, **kwds)\u001b[0m\n\u001b[0;32m     90\u001b[0m \u001b[38;5;28;01mif\u001b[39;00m kwds[\u001b[38;5;124m\"\u001b[39m\u001b[38;5;124mdtype_backend\u001b[39m\u001b[38;5;124m\"\u001b[39m] \u001b[38;5;241m==\u001b[39m \u001b[38;5;124m\"\u001b[39m\u001b[38;5;124mpyarrow\u001b[39m\u001b[38;5;124m\"\u001b[39m:\n\u001b[0;32m     91\u001b[0m     \u001b[38;5;66;03m# Fail here loudly instead of in cython after reading\u001b[39;00m\n\u001b[0;32m     92\u001b[0m     import_optional_dependency(\u001b[38;5;124m\"\u001b[39m\u001b[38;5;124mpyarrow\u001b[39m\u001b[38;5;124m\"\u001b[39m)\n\u001b[1;32m---> 93\u001b[0m \u001b[38;5;28mself\u001b[39m\u001b[38;5;241m.\u001b[39m_reader \u001b[38;5;241m=\u001b[39m parsers\u001b[38;5;241m.\u001b[39mTextReader(src, \u001b[38;5;241m*\u001b[39m\u001b[38;5;241m*\u001b[39mkwds)\n\u001b[0;32m     95\u001b[0m \u001b[38;5;28mself\u001b[39m\u001b[38;5;241m.\u001b[39munnamed_cols \u001b[38;5;241m=\u001b[39m \u001b[38;5;28mself\u001b[39m\u001b[38;5;241m.\u001b[39m_reader\u001b[38;5;241m.\u001b[39munnamed_cols\n\u001b[0;32m     97\u001b[0m \u001b[38;5;66;03m# error: Cannot determine type of 'names'\u001b[39;00m\n",
      "File \u001b[1;32mparsers.pyx:574\u001b[0m, in \u001b[0;36mpandas._libs.parsers.TextReader.__cinit__\u001b[1;34m()\u001b[0m\n",
      "File \u001b[1;32mparsers.pyx:663\u001b[0m, in \u001b[0;36mpandas._libs.parsers.TextReader._get_header\u001b[1;34m()\u001b[0m\n",
      "File \u001b[1;32mparsers.pyx:874\u001b[0m, in \u001b[0;36mpandas._libs.parsers.TextReader._tokenize_rows\u001b[1;34m()\u001b[0m\n",
      "File \u001b[1;32mparsers.pyx:891\u001b[0m, in \u001b[0;36mpandas._libs.parsers.TextReader._check_tokenize_status\u001b[1;34m()\u001b[0m\n",
      "File \u001b[1;32mparsers.pyx:2053\u001b[0m, in \u001b[0;36mpandas._libs.parsers.raise_parser_error\u001b[1;34m()\u001b[0m\n",
      "File \u001b[1;32m<frozen codecs>:322\u001b[0m, in \u001b[0;36mdecode\u001b[1;34m(self, input, final)\u001b[0m\n",
      "\u001b[1;31mUnicodeDecodeError\u001b[0m: 'utf-8' codec can't decode bytes in position 7250-7251: invalid continuation byte"
     ]
    }
   ],
   "source": [
    "import pandas as pd # import pandas library with the alias of pd\n",
    "spotify = pd.read_csv('spotify-2023.csv')\n",
    "spotify['track_name']"
   ]
  },
  {
   "cell_type": "markdown",
   "id": "b91a5ad9-981e-4f98-b883-bceb094be986",
   "metadata": {},
   "source": [
    "## <font color='F95454'>I encountered a problem where I could not call on the track names in the spotify-2023.csv.</font>"
   ]
  },
  {
   "cell_type": "markdown",
   "id": "f60a179c-bea4-4de8-88b6-faa98095340e",
   "metadata": {},
   "source": [
    "# <font color='C62E2E'>Error in Basic Descriptive Statistics</font>"
   ]
  },
  {
   "cell_type": "code",
   "execution_count": 7,
   "id": "1ccc9cb5-d434-43d4-951e-ea0e0ff04fc7",
   "metadata": {},
   "outputs": [
    {
     "ename": "NameError",
     "evalue": "name 'spotify' is not defined",
     "output_type": "error",
     "traceback": [
      "\u001b[1;31m---------------------------------------------------------------------------\u001b[0m",
      "\u001b[1;31mNameError\u001b[0m                                 Traceback (most recent call last)",
      "Cell \u001b[1;32mIn[7], line 1\u001b[0m\n\u001b[1;32m----> 1\u001b[0m streams_mean \u001b[38;5;241m=\u001b[39m spotify[\u001b[38;5;124m'\u001b[39m\u001b[38;5;124mstreams\u001b[39m\u001b[38;5;124m'\u001b[39m]\u001b[38;5;241m.\u001b[39mmean() \u001b[38;5;66;03m# .mean is used to get the mean.\u001b[39;00m\n\u001b[0;32m      2\u001b[0m streams_median \u001b[38;5;241m=\u001b[39m spotify[\u001b[38;5;124m'\u001b[39m\u001b[38;5;124mstreams\u001b[39m\u001b[38;5;124m'\u001b[39m]\u001b[38;5;241m.\u001b[39mmedian() \u001b[38;5;66;03m# .median is used to get the median.\u001b[39;00m\n\u001b[0;32m      3\u001b[0m streams_standard_deviation \u001b[38;5;241m=\u001b[39m spotify[\u001b[38;5;124m'\u001b[39m\u001b[38;5;124mstreams\u001b[39m\u001b[38;5;124m'\u001b[39m]\u001b[38;5;241m.\u001b[39mstd() \u001b[38;5;66;03m# .std is used to get the standard deviation\u001b[39;00m\n",
      "\u001b[1;31mNameError\u001b[0m: name 'spotify' is not defined"
     ]
    }
   ],
   "source": [
    "streams_mean = spotify['streams'].mean() # .mean is used to get the mean.\n",
    "streams_median = spotify['streams'].median() # .median is used to get the median.\n",
    "streams_standard_deviation = spotify['streams'].std() # .std is used to get the standard deviation\n",
    "\n",
    "print(f\"Mean of streams: {streams_mean}\")\n",
    "print(f\"Median of streams: {streams_median}\")\n",
    "print(f\"Standard deviation of streams: {streams_standard_deviation}\")"
   ]
  },
  {
   "cell_type": "markdown",
   "id": "02b9be54-d9f0-4ab2-8ccf-222895387d93",
   "metadata": {},
   "source": [
    "# <font color='F95454'>The streams canonot be processed because there is a letter inside the csv file, in the streams column.</font>"
   ]
  },
  {
   "cell_type": "markdown",
   "id": "58455986-fc6c-43e3-a9d5-6e7d4acb8f85",
   "metadata": {},
   "source": [
    "# <font color='C62E2E'>Error in Genre, Music, and Characters</font>"
   ]
  },
  {
   "cell_type": "code",
   "execution_count": 39,
   "id": "18e77011-a0b2-4e12-bd79-43528b5eab6b",
   "metadata": {
    "scrolled": true
   },
   "outputs": [
    {
     "ename": "NameError",
     "evalue": "name 'plt' is not defined",
     "output_type": "error",
     "traceback": [
      "\u001b[1;31m---------------------------------------------------------------------------\u001b[0m",
      "\u001b[1;31mNameError\u001b[0m                                 Traceback (most recent call last)",
      "Cell \u001b[1;32mIn[39], line 5\u001b[0m\n\u001b[0;32m      2\u001b[0m sorted_energy \u001b[38;5;241m=\u001b[39m spotify[\u001b[38;5;124m'\u001b[39m\u001b[38;5;124menergy_\u001b[39m\u001b[38;5;124m%\u001b[39m\u001b[38;5;124m'\u001b[39m]\u001b[38;5;241m.\u001b[39msort_values()\n\u001b[0;32m      3\u001b[0m dance_energy_corr \u001b[38;5;241m=\u001b[39m spotify[\u001b[38;5;124m'\u001b[39m\u001b[38;5;124mdanceability_\u001b[39m\u001b[38;5;124m%\u001b[39m\u001b[38;5;124m'\u001b[39m]\u001b[38;5;241m.\u001b[39mcorr(spotify[\u001b[38;5;124m'\u001b[39m\u001b[38;5;124menergy_\u001b[39m\u001b[38;5;124m%\u001b[39m\u001b[38;5;124m'\u001b[39m])\n\u001b[1;32m----> 5\u001b[0m plt\u001b[38;5;241m.\u001b[39mscatter(dance_energy_corr)\n\u001b[0;32m      6\u001b[0m plt\u001b[38;5;241m.\u001b[39mgrid(\u001b[38;5;28;01mTrue\u001b[39;00m)\n\u001b[0;32m      7\u001b[0m plt\u001b[38;5;241m.\u001b[39mshow()\n",
      "\u001b[1;31mNameError\u001b[0m: name 'plt' is not defined"
     ]
    }
   ],
   "source": [
    "sorted_danceability = spotify['danceability_%'].sort_values()\n",
    "sorted_energy = spotify['energy_%'].sort_values()\n",
    "dance_energy_corr = spotify['danceability_%'].corr(spotify['energy_%'])\n",
    "\n",
    "plt.scatter(dance_energy_corr)\n",
    "plt.grid(True)\n",
    "plt.show()"
   ]
  },
  {
   "cell_type": "markdown",
   "id": "9516d3fc-d726-42d6-9ea4-1213744cefeb",
   "metadata": {},
   "source": [
    "## <font color='F95454'>I wanted to see if the correlation could be printed in here but I had a hard time determining the y requirement for scatter plot. But instead if using scatter plot, I used the bar chart.</font>"
   ]
  },
  {
   "cell_type": "markdown",
   "id": "d54033ff-3443-451c-972b-38218a221fe9",
   "metadata": {},
   "source": [
    "# <font color='C62E2E'>Errors in Advanced Analysis</font>"
   ]
  },
  {
   "cell_type": "code",
   "execution_count": 4,
   "id": "c0e580fd-3bd7-4227-a46e-bc314ea1e550",
   "metadata": {},
   "outputs": [
    {
     "ename": "NameError",
     "evalue": "name 'spotify' is not defined",
     "output_type": "error",
     "traceback": [
      "\u001b[1;31m---------------------------------------------------------------------------\u001b[0m",
      "\u001b[1;31mNameError\u001b[0m                                 Traceback (most recent call last)",
      "Cell \u001b[1;32mIn[4], line 9\u001b[0m\n\u001b[0;32m      3\u001b[0m \u001b[38;5;66;03m# Putting all the playlist and chart into an array\u001b[39;00m\n\u001b[0;32m      4\u001b[0m playlist_chart\u001b[38;5;241m=\u001b[39m [\u001b[38;5;124m'\u001b[39m\u001b[38;5;124min_spotify_playlists\u001b[39m\u001b[38;5;124m'\u001b[39m, \u001b[38;5;124m'\u001b[39m\u001b[38;5;124min_spotify_charts\u001b[39m\u001b[38;5;124m'\u001b[39m, \n\u001b[0;32m      5\u001b[0m                   \u001b[38;5;124m'\u001b[39m\u001b[38;5;124min_apple_playlists\u001b[39m\u001b[38;5;124m'\u001b[39m, \u001b[38;5;124m'\u001b[39m\u001b[38;5;124min_apple_charts\u001b[39m\u001b[38;5;124m'\u001b[39m, \n\u001b[0;32m      6\u001b[0m                   \u001b[38;5;124m'\u001b[39m\u001b[38;5;124min_deezer_playlists\u001b[39m\u001b[38;5;124m'\u001b[39m, \u001b[38;5;124m'\u001b[39m\u001b[38;5;124min_deezer_charts\u001b[39m\u001b[38;5;124m'\u001b[39m, \n\u001b[0;32m      7\u001b[0m                   \u001b[38;5;124m'\u001b[39m\u001b[38;5;124min_shazam_charts\u001b[39m\u001b[38;5;124m'\u001b[39m]\n\u001b[1;32m----> 9\u001b[0m spotify[playlist_chart] \u001b[38;5;241m=\u001b[39m pd\u001b[38;5;241m.\u001b[39mto_numeric(spotify[playlist_chart])\n\u001b[0;32m     10\u001b[0m \u001b[38;5;28mprint\u001b[39m(spotify[playlist_chart])\n",
      "\u001b[1;31mNameError\u001b[0m: name 'spotify' is not defined"
     ]
    }
   ],
   "source": [
    "import pandas as pd\n",
    "\n",
    "# Putting all the playlist and chart into an array\n",
    "playlist_chart= ['in_spotify_playlists', 'in_spotify_charts', \n",
    "                  'in_apple_playlists', 'in_apple_charts', \n",
    "                  'in_deezer_playlists', 'in_deezer_charts', \n",
    "                  'in_shazam_charts']\n",
    "\n",
    "spotify[playlist_chart] = pd.to_numeric(spotify[playlist_chart])\n",
    "print(spotify[playlist_chart])"
   ]
  },
  {
   "cell_type": "markdown",
   "id": "b5073fdc-9a7c-4dac-9bac-50ac27e97ba8",
   "metadata": {},
   "source": [
    "## <font color='F95454'>pd.numeric is only applicable in single column only. In my case playlist_chart, I am trying to use it in multiple columns that is why it does not work.I need to put it in a listing process first and apply pd.numeric.</font>"
   ]
  },
  {
   "cell_type": "code",
   "execution_count": 11,
   "id": "7cb9cf0b-b448-4188-9f66-1db1bc1569cc",
   "metadata": {},
   "outputs": [
    {
     "ename": "NameError",
     "evalue": "name 'spotify' is not defined",
     "output_type": "error",
     "traceback": [
      "\u001b[1;31m---------------------------------------------------------------------------\u001b[0m",
      "\u001b[1;31mNameError\u001b[0m                                 Traceback (most recent call last)",
      "Cell \u001b[1;32mIn[11], line 10\u001b[0m\n\u001b[0;32m      4\u001b[0m playlist_chart\u001b[38;5;241m=\u001b[39m [\u001b[38;5;124m'\u001b[39m\u001b[38;5;124min_spotify_playlists\u001b[39m\u001b[38;5;124m'\u001b[39m, \u001b[38;5;124m'\u001b[39m\u001b[38;5;124min_spotify_charts\u001b[39m\u001b[38;5;124m'\u001b[39m, \n\u001b[0;32m      5\u001b[0m                   \u001b[38;5;124m'\u001b[39m\u001b[38;5;124min_apple_playlists\u001b[39m\u001b[38;5;124m'\u001b[39m, \u001b[38;5;124m'\u001b[39m\u001b[38;5;124min_apple_charts\u001b[39m\u001b[38;5;124m'\u001b[39m, \n\u001b[0;32m      6\u001b[0m                   \u001b[38;5;124m'\u001b[39m\u001b[38;5;124min_deezer_playlists\u001b[39m\u001b[38;5;124m'\u001b[39m, \u001b[38;5;124m'\u001b[39m\u001b[38;5;124min_deezer_charts\u001b[39m\u001b[38;5;124m'\u001b[39m, \n\u001b[0;32m      7\u001b[0m                   \u001b[38;5;124m'\u001b[39m\u001b[38;5;124min_shazam_charts\u001b[39m\u001b[38;5;124m'\u001b[39m]\n\u001b[0;32m      9\u001b[0m \u001b[38;5;66;03m# Convert columns to numeric (if they are not already)\u001b[39;00m\n\u001b[1;32m---> 10\u001b[0m spotify[playlist_chart] \u001b[38;5;241m=\u001b[39m spotify[playlist_chart]\u001b[38;5;241m.\u001b[39mapply(pd\u001b[38;5;241m.\u001b[39mto_numeric, errors\u001b[38;5;241m=\u001b[39m\u001b[38;5;124m'\u001b[39m\u001b[38;5;124mcoerce\u001b[39m\u001b[38;5;124m'\u001b[39m)\n\u001b[0;32m     11\u001b[0m \u001b[38;5;28mprint\u001b[39m(spotify[playlist_chart])\n",
      "\u001b[1;31mNameError\u001b[0m: name 'spotify' is not defined"
     ]
    }
   ],
   "source": [
    "import pandas as pd\n",
    "\n",
    "# Putting all the playlist and chart into an array\n",
    "playlist_chart= ['in_spotify_playlists', 'in_spotify_charts', \n",
    "                  'in_apple_playlists', 'in_apple_charts', \n",
    "                  'in_deezer_playlists', 'in_deezer_charts', \n",
    "                  'in_shazam_charts']\n",
    "\n",
    "# Convert columns to numeric (if they are not already)\n",
    "spotify[playlist_chart] = spotify[playlist_chart].apply(pd.to_numeric, errors='coerce')\n",
    "print(spotify[playlist_chart])"
   ]
  },
  {
   "cell_type": "markdown",
   "id": "3582e980-55ed-49a9-ac73-7596569cde8a",
   "metadata": {},
   "source": [
    "## <font color='F95454'>I encountered another error due to not applying the error handler in playlist_chart. Error occured: File lib.pyx:2391, in pandas._libs.lib.maybe_convert_numeric() ValueError: Unable to parse string \"2,445\".</font>"
   ]
  },
  {
   "cell_type": "markdown",
   "id": "b379e8c0-b8e3-4c4f-9d16-cd6a93401b87",
   "metadata": {},
   "source": [
    "# <font color='255C99'>Realization in Overview of Dataset</font>"
   ]
  },
  {
   "cell_type": "markdown",
   "id": "9b3d9e00-6fb6-400e-a0cb-45f75031aa81",
   "metadata": {},
   "source": [
    "### UnicodeDecodeError: 'utf-8' codec can't decode bytes in position 7250-7251: invalid continuation byte"
   ]
  },
  {
   "cell_type": "markdown",
   "id": "726e3f1f-9b34-4de4-a357-13b218b13940",
   "metadata": {},
   "source": [
    "### I conducted a research for it and the encoding='ut-8' can't decode the special characters included in the file. The file contains characters that are not compatible with the default encoding that is being used to read the file."
   ]
  },
  {
   "cell_type": "code",
   "execution_count": 9,
   "id": "38fd65db-38a9-4d48-adaf-00cf5fecf9fa",
   "metadata": {},
   "outputs": [
    {
     "name": "stdout",
     "output_type": "stream",
     "text": [
      "0      Seven (feat. Latto) (Explicit Ver.)\n",
      "1                                     LALA\n",
      "2                                  vampire\n",
      "3                             Cruel Summer\n",
      "4                           WHERE SHE GOES\n",
      "                      ...                 \n",
      "948                           My Mind & Me\n",
      "949              Bigger Than The Whole Sky\n",
      "950                   A Veces (feat. Feid)\n",
      "951                          En La De Ella\n",
      "952                                  Alone\n",
      "Name: track_name, Length: 953, dtype: object\n"
     ]
    }
   ],
   "source": [
    "import pandas as pd\n",
    "spotify = pd.read_csv(\"spotify-2023.csv\", encoding='latin-1')# reading the file of spotify-2023\n",
    "print (spotify['track_name'])"
   ]
  },
  {
   "cell_type": "markdown",
   "id": "42ccac01-47ea-475d-8d08-50ab3e0940c9",
   "metadata": {},
   "source": [
    "## <font color='7EA3CC'>Upon reviewing the csv file, I realized that there are special characters. With moments of researching and experimenting I could not figure it out. But after searching, I used the Latin-1 for reading the csv file I saw in the stackoverflow method.</font>"
   ]
  },
  {
   "cell_type": "markdown",
   "id": "f5c79e70-a038-4676-990b-b66b162169d2",
   "metadata": {},
   "source": [
    "# <font color='255C99'>Gendres and Music Characteristics</font>"
   ]
  },
  {
   "cell_type": "code",
   "execution_count": 41,
   "id": "0f2e082c-774d-489a-8461-bccdf3777579",
   "metadata": {},
   "outputs": [
    {
     "name": "stdout",
     "output_type": "stream",
     "text": [
      "0.198094848376257\n",
      "0.19809484837625715\n",
      "-0.08190727483082764\n",
      "-0.08190727483082758\n"
     ]
    }
   ],
   "source": [
    "unsorted_dance_energy_corr = spotify['danceability_%'].corr(spotify['energy_%'])\n",
    "unsorted_valence_acous_corr = spotify['valence_%'].corr(spotify['acousticness_%'])\n",
    "sorted_dance_energy_corr = spotify['danceability_%'].sort_values().corr(spotify['energy_%'].sort_values())\n",
    "sorted_valence_acous_corr = spotify['valence_%'].sort_values().corr(spotify['acousticness_%'].sort_values())\n",
    "\n",
    "print(sorted_dance_energy_corr)\n",
    "print(unsorted_dance_energy_corr)\n",
    "print(sorted_valence_acous_corr)\n",
    "print(unsorted_valence_acous_corr)"
   ]
  },
  {
   "cell_type": "markdown",
   "id": "4e0bc0c0-f012-4922-ad2a-717b98123f5b",
   "metadata": {},
   "source": [
    "## <font color='7EA3CC'>I realized that sorting the danceability and energy correlation, as well as the valence and acoustic correlation, would not change the output numbers. However, in graphs, the sorted one provides a much cleaner visualization of data.</font>"
   ]
  },
  {
   "cell_type": "markdown",
   "id": "d558b197-b22f-45ef-9134-2e0d2bfdc735",
   "metadata": {},
   "source": [
    "# <font color='255C99'>Advanced Analysis</font>"
   ]
  },
  {
   "cell_type": "code",
   "execution_count": 16,
   "id": "140f420d-4a3a-4d4f-b143-b37a964efe4f",
   "metadata": {},
   "outputs": [
    {
     "ename": "NameError",
     "evalue": "name 'spotify' is not defined",
     "output_type": "error",
     "traceback": [
      "\u001b[1;31m---------------------------------------------------------------------------\u001b[0m",
      "\u001b[1;31mNameError\u001b[0m                                 Traceback (most recent call last)",
      "Cell \u001b[1;32mIn[16], line 8\u001b[0m\n\u001b[0;32m      2\u001b[0m playlist_chart\u001b[38;5;241m=\u001b[39m [\u001b[38;5;124m'\u001b[39m\u001b[38;5;124min_spotify_playlists\u001b[39m\u001b[38;5;124m'\u001b[39m, \u001b[38;5;124m'\u001b[39m\u001b[38;5;124min_spotify_charts\u001b[39m\u001b[38;5;124m'\u001b[39m, \n\u001b[0;32m      3\u001b[0m                   \u001b[38;5;124m'\u001b[39m\u001b[38;5;124min_apple_playlists\u001b[39m\u001b[38;5;124m'\u001b[39m, \u001b[38;5;124m'\u001b[39m\u001b[38;5;124min_apple_charts\u001b[39m\u001b[38;5;124m'\u001b[39m, \n\u001b[0;32m      4\u001b[0m                   \u001b[38;5;124m'\u001b[39m\u001b[38;5;124min_deezer_playlists\u001b[39m\u001b[38;5;124m'\u001b[39m, \u001b[38;5;124m'\u001b[39m\u001b[38;5;124min_deezer_charts\u001b[39m\u001b[38;5;124m'\u001b[39m, \n\u001b[0;32m      5\u001b[0m                   \u001b[38;5;124m'\u001b[39m\u001b[38;5;124min_shazam_charts\u001b[39m\u001b[38;5;124m'\u001b[39m]\n\u001b[0;32m      7\u001b[0m \u001b[38;5;66;03m# Convert columns to numeric (if they are not already)\u001b[39;00m\n\u001b[1;32m----> 8\u001b[0m spotify[playlist_chart] \u001b[38;5;241m=\u001b[39m spotify[playlist_chart]\u001b[38;5;241m.\u001b[39mapply(pd\u001b[38;5;241m.\u001b[39mto_numeric)\n\u001b[0;32m     10\u001b[0m \u001b[38;5;66;03m# Group by artist and sum across all playlist/chart columns\u001b[39;00m\n\u001b[0;32m     11\u001b[0m artist_totals \u001b[38;5;241m=\u001b[39m spotify\u001b[38;5;241m.\u001b[39mgroupby(\u001b[38;5;124m'\u001b[39m\u001b[38;5;124martist(s)_name\u001b[39m\u001b[38;5;124m'\u001b[39m)[playlist_chart]\u001b[38;5;241m.\u001b[39msum()\n",
      "\u001b[1;31mNameError\u001b[0m: name 'spotify' is not defined"
     ]
    }
   ],
   "source": [
    "# Putting all the playlist and chart into an array\n",
    "playlist_chart= ['in_spotify_playlists', 'in_spotify_charts', \n",
    "                  'in_apple_playlists', 'in_apple_charts', \n",
    "                  'in_deezer_playlists', 'in_deezer_charts', \n",
    "                  'in_shazam_charts']\n",
    "\n",
    "# Convert columns to numeric (if they are not already)\n",
    "spotify[playlist_chart] = spotify[playlist_chart].apply(pd.to_numeric)\n",
    "\n",
    "# Group by artist and sum across all playlist/chart columns\n",
    "artist_totals = spotify.groupby('artist(s)_name')[playlist_chart].sum()\n",
    "\n",
    "# Calculate total appearances by rows. By finding the total using the .sum, axis 1 is used to create a single row for the total per artists.\n",
    "artist_totals['Total_Appearances'] = artist_totals.sum(axis=0)"
   ]
  },
  {
   "cell_type": "markdown",
   "id": "31fcd103-d0d8-4378-af71-a18c22e87560",
   "metadata": {},
   "source": [
    "## <font color='7EA3CC'>if I used axis=0 the display in the bar would be none because axis 0 refers in the columns.</font>"
   ]
  }
 ],
 "metadata": {
  "kernelspec": {
   "display_name": "Python 3 (ipykernel)",
   "language": "python",
   "name": "python3"
  },
  "language_info": {
   "codemirror_mode": {
    "name": "ipython",
    "version": 3
   },
   "file_extension": ".py",
   "mimetype": "text/x-python",
   "name": "python",
   "nbconvert_exporter": "python",
   "pygments_lexer": "ipython3",
   "version": "3.12.4"
  }
 },
 "nbformat": 4,
 "nbformat_minor": 5
}
